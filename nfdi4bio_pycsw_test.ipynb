{
 "cells": [
  {
   "cell_type": "markdown",
   "metadata": {},
   "source": [
    "# Setup"
   ]
  },
  {
   "cell_type": "code",
   "execution_count": 1,
   "metadata": {},
   "outputs": [],
   "source": [
    "import csv\n",
    "import pathlib\n",
    "import time\n",
    "import urllib.request\n",
    "from urllib.parse import urlparse\n",
    "from selenium import webdriver\n",
    "from selenium.webdriver.chrome.options import Options\n",
    "from selenium.webdriver.common.by import By\n",
    "from selenium.common.exceptions import TimeoutException\n",
    "from selenium.webdriver.support.ui import WebDriverWait, Select\n",
    "from selenium.webdriver.support import expected_conditions as EC\n",
    "from selenium.webdriver.common import keys\n",
    "\n",
    "import selenium\n",
    "chrome_options = Options()\n",
    "# chrome_options.add_argument('--no-sandbox')\n",
    "# chrome_options.add_argument('--headless')\n",
    "# chrome_options.add_argument('--disable-gpu')\n",
    "# chrome_options.add_argument('--disable-dev-shm-usage')\n",
    "# chrome_options.add_argument('--profile-directory=Default')\n",
    "# chrome_options.add_argument('--user-data-dir=~/.config/google-chrome')\n"
   ]
  },
  {
   "cell_type": "code",
   "execution_count": 2,
   "metadata": {},
   "outputs": [],
   "source": [
    "class Paths:\n",
    "    WORK_DIR = pathlib.Path().absolute()\n",
    "    TEST_DATA_DIR = WORK_DIR.parent / \"nfdi4bio\"\n",
    "    TEST_DATASET = TEST_DATA_DIR / \"wuchsbezirke_2011.zip\"\n",
    "    TEST_METADATA_CSV = TEST_DATA_DIR / \"wuchsbezirka_metadata.csv\"\n",
    "    \n",
    "ROOT_URL = \"http://localhost:8080/\"\n",
    "    \n",
    "class Login:\n",
    "    NAME = \"admin\"\n",
    "    PASSWORD = \"admin\""
   ]
  },
  {
   "cell_type": "code",
   "execution_count": 3,
   "metadata": {},
   "outputs": [],
   "source": [
    "driver = webdriver.Chrome(options=chrome_options)"
   ]
  },
  {
   "cell_type": "code",
   "execution_count": 5,
   "metadata": {},
   "outputs": [],
   "source": [
    "def hide_footer(func):\n",
    "    def wrap(*args, **kwargs):\n",
    "        out = func(*args, **kwargs)\n",
    "        footer = driver.find_element(By.XPATH,\"//footer\")\n",
    "        driver.execute_script(\"arguments[0].style.visibility='hidden'\",footer)\n",
    "        return out\n",
    "    return wrap"
   ]
  },
  {
   "cell_type": "markdown",
   "metadata": {},
   "source": [
    "## Set Page To English"
   ]
  },
  {
   "cell_type": "code",
   "execution_count": 6,
   "metadata": {},
   "outputs": [],
   "source": [
    "def set_page_to_english():\n",
    "    def already_english():\n",
    "        return driver.find_element(By.ID, \"gn-language-selector\").text == \"English\"\n",
    "\n",
    "    def open_dropdown_with_languages():\n",
    "        driver.find_element(By.ID, \"gn-language-selector\").click()\n",
    "\n",
    "    def click_english_language_element():\n",
    "        driver.find_element(By.XPATH, '//*[@id=\"gn-language-selector-dropdown\"]/ul/li/a[text()=\"English\"]').click()\n",
    "\n",
    "    driver.get(ROOT_URL)\n",
    "    if already_english():\n",
    "        return\n",
    "    open_dropdown_with_languages()\n",
    "    click_english_language_element()\n",
    "\n",
    "set_page_to_english()"
   ]
  },
  {
   "cell_type": "markdown",
   "metadata": {},
   "source": [
    "## Login"
   ]
  },
  {
   "cell_type": "code",
   "execution_count": 7,
   "metadata": {},
   "outputs": [],
   "source": [
    "def login():\n",
    "    LOGIN_URL = ROOT_URL + \"account/login/\"\n",
    "    @hide_footer\n",
    "    def load_login_page():\n",
    "        TIMEOUT = 10\n",
    "        driver.get(LOGIN_URL)\n",
    "        form_has_loaded = EC.presence_of_element_located((By.CSS_SELECTOR, \"form\"))\n",
    "        try:\n",
    "            WebDriverWait(driver, TIMEOUT).until(form_has_loaded)\n",
    "        except TimeoutException as e:\n",
    "            raise e(\"login form didn't load in time.\")\n",
    "\n",
    "    def input_name():\n",
    "        input = driver.find_element(By.CSS_SELECTOR, \"#id_login\")\n",
    "        input.send_keys(Login.NAME)\n",
    "\n",
    "    def input_password():\n",
    "        input = driver.find_element(By.CSS_SELECTOR, \"#id_password\")\n",
    "        input.send_keys(Login.PASSWORD)\n",
    "\n",
    "    def click_login():\n",
    "        driver.find_element(By.XPATH, '//form/button[text()=\"Sign In\"]').click()\n",
    "\n",
    "    load_login_page()\n",
    "    input_name()\n",
    "    input_password()\n",
    "    click_login()\n",
    "    \n",
    "login()"
   ]
  },
  {
   "cell_type": "markdown",
   "metadata": {},
   "source": [
    "# Step 1"
   ]
  },
  {
   "cell_type": "code",
   "execution_count": 8,
   "metadata": {},
   "outputs": [],
   "source": [
    "def upload_dataset_and_get_its_link():\n",
    "    UPLOAD_DATASET_URL = ROOT_URL + \"catalogue/#/upload/dataset\"\n",
    "    @hide_footer\n",
    "    def navigate_to_the_dataset_upload_UI():\n",
    "        TIMEOUT = 10\n",
    "        driver.get(UPLOAD_DATASET_URL)\n",
    "        UI_has_loaded = EC.presence_of_element_located((By.ID, \"ms-app\"))\n",
    "        try:\n",
    "            WebDriverWait(driver, TIMEOUT).until(UI_has_loaded)\n",
    "        except TimeoutException as e:\n",
    "            raise e(\"upload app didn't load in time.\")\n",
    "\n",
    "    def select_the_dataset_to_be_uploaded():\n",
    "        input = driver.find_element(By.XPATH, '//*[@id=\"ms-app\"]/div/div/div[1]/div[1]/div/div[1]/input')\n",
    "        input.send_keys(Paths.TEST_DATASET.as_posix())\n",
    "\n",
    "    def click_on_upload():\n",
    "        button = driver.find_element(By.XPATH, '//*[@id=\"ms-app\"]/div/div/div[1]/div[1]/div/div[2]/button')\n",
    "        button.click()\n",
    "\n",
    "    def wait_until_the_upload_process_is_finalized():\n",
    "        TIMEOUT = 60\n",
    "        try:\n",
    "            show_button_is_present = EC.presence_of_element_located((By.XPATH, \"//a[span/text()='View']\"))\n",
    "            WebDriverWait(driver, TIMEOUT).until(show_button_is_present)\n",
    "        except TimeoutException as e:\n",
    "            raise e(\"Upload of dataset didn't succeed in time.\")\n",
    "\n",
    "    def get_link_to_uploaded_dataset():\n",
    "        return driver.find_element(By.XPATH, \"//a[span/text()='View']\").get_attribute(\"href\")\n",
    "\n",
    "    navigate_to_the_dataset_upload_UI()\n",
    "    select_the_dataset_to_be_uploaded()\n",
    "    click_on_upload()\n",
    "    wait_until_the_upload_process_is_finalized()\n",
    "    return get_link_to_uploaded_dataset()\n",
    "\n",
    "dataset_layer_url = upload_dataset_and_get_its_link()\n"
   ]
  },
  {
   "cell_type": "markdown",
   "metadata": {},
   "source": [
    "# Step 2A"
   ]
  },
  {
   "cell_type": "code",
   "execution_count": 9,
   "metadata": {},
   "outputs": [],
   "source": [
    "# link needs to be normalized for remote debugging:\n",
    "dataset_layer_url= urlparse(dataset_layer_url)._replace(netloc=urlparse(ROOT_URL).netloc).geturl()  "
   ]
  },
  {
   "cell_type": "code",
   "execution_count": 10,
   "metadata": {},
   "outputs": [
    {
     "ename": "NoSuchWindowException",
     "evalue": "Message: no such window: target window already closed\nfrom unknown error: web view not found\n  (Session info: chrome=106.0.5249.119)\nStacktrace:\nBacktrace:\n\tOrdinal0 [0x004C1ED3+2236115]\n\tOrdinal0 [0x004592F1+1807089]\n\tOrdinal0 [0x003666FD+812797]\n\tOrdinal0 [0x0034DFFA+712698]\n\tOrdinal0 [0x003B506B+1134699]\n\tOrdinal0 [0x003C514A+1200458]\n\tOrdinal0 [0x003B18A6+1120422]\n\tOrdinal0 [0x0038A73D+960317]\n\tOrdinal0 [0x0038B71F+964383]\n\tGetHandleVerifier [0x0076E7E2+2743074]\n\tGetHandleVerifier [0x007608D4+2685972]\n\tGetHandleVerifier [0x00552BAA+532202]\n\tGetHandleVerifier [0x00551990+527568]\n\tOrdinal0 [0x0046080C+1837068]\n\tOrdinal0 [0x00464CD8+1854680]\n\tOrdinal0 [0x00464DC5+1854917]\n\tOrdinal0 [0x0046ED64+1895780]\n\tBaseThreadInitThunk [0x7572FA29+25]\n\tRtlGetAppContainerNamedObjectPath [0x772F7BBE+286]\n\tRtlGetAppContainerNamedObjectPath [0x772F7B8E+238]\n",
     "output_type": "error",
     "traceback": [
      "\u001b[1;31m---------------------------------------------------------------------------\u001b[0m",
      "\u001b[1;31mNoSuchWindowException\u001b[0m                     Traceback (most recent call last)",
      "Cell \u001b[1;32mIn [10], line 93\u001b[0m\n\u001b[0;32m     91\u001b[0m     insert_the_metadatas_values_to_form(metadatas)\n\u001b[0;32m     92\u001b[0m     finalize_by_clicking_on_update()\n\u001b[1;32m---> 93\u001b[0m open_editor_edit_metadata_and_update()\n",
      "Cell \u001b[1;32mIn [10], line 92\u001b[0m, in \u001b[0;36mopen_editor_edit_metadata_and_update\u001b[1;34m()\u001b[0m\n\u001b[0;32m     90\u001b[0m metadatas \u001b[38;5;241m=\u001b[39m load_metadatas_from_csv()\n\u001b[0;32m     91\u001b[0m insert_the_metadatas_values_to_form(metadatas)\n\u001b[1;32m---> 92\u001b[0m finalize_by_clicking_on_update()\n",
      "Cell \u001b[1;32mIn [10], line 85\u001b[0m, in \u001b[0;36mopen_editor_edit_metadata_and_update.<locals>.finalize_by_clicking_on_update\u001b[1;34m()\u001b[0m\n\u001b[0;32m     84\u001b[0m \u001b[38;5;28;01mdef\u001b[39;00m \u001b[38;5;21mfinalize_by_clicking_on_update\u001b[39m():\n\u001b[1;32m---> 85\u001b[0m     \u001b[43mdriver\u001b[49m\u001b[38;5;241;43m.\u001b[39;49m\u001b[43mfind_element\u001b[49m\u001b[43m(\u001b[49m\u001b[43mBy\u001b[49m\u001b[38;5;241;43m.\u001b[39;49m\u001b[43mID\u001b[49m\u001b[43m,\u001b[49m\u001b[38;5;124;43m\"\u001b[39;49m\u001b[38;5;124;43mbtn_upd_md_dwn\u001b[39;49m\u001b[38;5;124;43m\"\u001b[39;49m\u001b[43m)\u001b[49m\u001b[38;5;241m.\u001b[39mclick()\n",
      "File \u001b[1;32m~\\AppData\\Local\\Programs\\Python\\Python310\\lib\\site-packages\\selenium\\webdriver\\remote\\webdriver.py:856\u001b[0m, in \u001b[0;36mWebDriver.find_element\u001b[1;34m(self, by, value)\u001b[0m\n\u001b[0;32m    853\u001b[0m     by \u001b[39m=\u001b[39m By\u001b[39m.\u001b[39mCSS_SELECTOR\n\u001b[0;32m    854\u001b[0m     value \u001b[39m=\u001b[39m \u001b[39m'\u001b[39m\u001b[39m[name=\u001b[39m\u001b[39m\"\u001b[39m\u001b[39m%s\u001b[39;00m\u001b[39m\"\u001b[39m\u001b[39m]\u001b[39m\u001b[39m'\u001b[39m \u001b[39m%\u001b[39m value\n\u001b[1;32m--> 856\u001b[0m \u001b[39mreturn\u001b[39;00m \u001b[39mself\u001b[39;49m\u001b[39m.\u001b[39;49mexecute(Command\u001b[39m.\u001b[39;49mFIND_ELEMENT, {\n\u001b[0;32m    857\u001b[0m     \u001b[39m'\u001b[39;49m\u001b[39musing\u001b[39;49m\u001b[39m'\u001b[39;49m: by,\n\u001b[0;32m    858\u001b[0m     \u001b[39m'\u001b[39;49m\u001b[39mvalue\u001b[39;49m\u001b[39m'\u001b[39;49m: value})[\u001b[39m'\u001b[39m\u001b[39mvalue\u001b[39m\u001b[39m'\u001b[39m]\n",
      "File \u001b[1;32m~\\AppData\\Local\\Programs\\Python\\Python310\\lib\\site-packages\\selenium\\webdriver\\remote\\webdriver.py:429\u001b[0m, in \u001b[0;36mWebDriver.execute\u001b[1;34m(self, driver_command, params)\u001b[0m\n\u001b[0;32m    427\u001b[0m response \u001b[39m=\u001b[39m \u001b[39mself\u001b[39m\u001b[39m.\u001b[39mcommand_executor\u001b[39m.\u001b[39mexecute(driver_command, params)\n\u001b[0;32m    428\u001b[0m \u001b[39mif\u001b[39;00m response:\n\u001b[1;32m--> 429\u001b[0m     \u001b[39mself\u001b[39;49m\u001b[39m.\u001b[39;49merror_handler\u001b[39m.\u001b[39;49mcheck_response(response)\n\u001b[0;32m    430\u001b[0m     response[\u001b[39m'\u001b[39m\u001b[39mvalue\u001b[39m\u001b[39m'\u001b[39m] \u001b[39m=\u001b[39m \u001b[39mself\u001b[39m\u001b[39m.\u001b[39m_unwrap_value(\n\u001b[0;32m    431\u001b[0m         response\u001b[39m.\u001b[39mget(\u001b[39m'\u001b[39m\u001b[39mvalue\u001b[39m\u001b[39m'\u001b[39m, \u001b[39mNone\u001b[39;00m))\n\u001b[0;32m    432\u001b[0m     \u001b[39mreturn\u001b[39;00m response\n",
      "File \u001b[1;32m~\\AppData\\Local\\Programs\\Python\\Python310\\lib\\site-packages\\selenium\\webdriver\\remote\\errorhandler.py:243\u001b[0m, in \u001b[0;36mErrorHandler.check_response\u001b[1;34m(self, response)\u001b[0m\n\u001b[0;32m    241\u001b[0m         alert_text \u001b[39m=\u001b[39m value[\u001b[39m'\u001b[39m\u001b[39malert\u001b[39m\u001b[39m'\u001b[39m]\u001b[39m.\u001b[39mget(\u001b[39m'\u001b[39m\u001b[39mtext\u001b[39m\u001b[39m'\u001b[39m)\n\u001b[0;32m    242\u001b[0m     \u001b[39mraise\u001b[39;00m exception_class(message, screen, stacktrace, alert_text)  \u001b[39m# type: ignore[call-arg]  # mypy is not smart enough here\u001b[39;00m\n\u001b[1;32m--> 243\u001b[0m \u001b[39mraise\u001b[39;00m exception_class(message, screen, stacktrace)\n",
      "\u001b[1;31mNoSuchWindowException\u001b[0m: Message: no such window: target window already closed\nfrom unknown error: web view not found\n  (Session info: chrome=106.0.5249.119)\nStacktrace:\nBacktrace:\n\tOrdinal0 [0x004C1ED3+2236115]\n\tOrdinal0 [0x004592F1+1807089]\n\tOrdinal0 [0x003666FD+812797]\n\tOrdinal0 [0x0034DFFA+712698]\n\tOrdinal0 [0x003B506B+1134699]\n\tOrdinal0 [0x003C514A+1200458]\n\tOrdinal0 [0x003B18A6+1120422]\n\tOrdinal0 [0x0038A73D+960317]\n\tOrdinal0 [0x0038B71F+964383]\n\tGetHandleVerifier [0x0076E7E2+2743074]\n\tGetHandleVerifier [0x007608D4+2685972]\n\tGetHandleVerifier [0x00552BAA+532202]\n\tGetHandleVerifier [0x00551990+527568]\n\tOrdinal0 [0x0046080C+1837068]\n\tOrdinal0 [0x00464CD8+1854680]\n\tOrdinal0 [0x00464DC5+1854917]\n\tOrdinal0 [0x0046ED64+1895780]\n\tBaseThreadInitThunk [0x7572FA29+25]\n\tRtlGetAppContainerNamedObjectPath [0x772F7BBE+286]\n\tRtlGetAppContainerNamedObjectPath [0x772F7B8E+238]\n"
     ]
    }
   ],
   "source": [
    "def open_editor_edit_metadata_and_update():\n",
    "    @hide_footer\n",
    "    def navigate_to_the_new_dataset_layer():\n",
    "        driver.get(dataset_layer_url)\n",
    "\n",
    "    def click_on_edit_metadata():\n",
    "        def close_overlaying_UI():\n",
    "            TIMEOUT = 30\n",
    "            is_loaded = EC.presence_of_element_located((By.XPATH, '//a[@class=\"square-button btn btn-default\" and @role=\"button\"]'))\n",
    "            try:\n",
    "                WebDriverWait(driver, TIMEOUT).until(is_loaded)\n",
    "            except TimeoutException as e:\n",
    "                raise e(\"page didn't load in time.\")\n",
    "            driver.find_element(By.XPATH, '//a[@class=\"square-button btn btn-default\" and @role=\"button\"]').click()\n",
    "\n",
    "        close_overlaying_UI()\n",
    "        driver.find_element(By.XPATH, \"//button[span/text()='Edit']\").click()\n",
    "        driver.find_element(By.XPATH, '//ul/li/a[span/text()=\"Edit Metadata\"]').click()\n",
    "\n",
    "    @hide_footer\n",
    "    def click_on_advanced_metadata():\n",
    "        driver.find_element(By.XPATH, '//a[text()=\"Advanced Metadata\"]').click()\n",
    "\n",
    "    def load_metadatas_from_csv():\n",
    "        with open(Paths.TEST_METADATA_CSV, mode=\"r\", encoding=\"utf8\") as csvfile:\n",
    "            reader = csv.reader(csvfile, delimiter=\";\")\n",
    "            metadatas = [(name, value.strip()) for name, value in reader][1:] # [1:] excludes header\n",
    "        return metadatas\n",
    "\n",
    "    def make_input_string(values):\n",
    "        input_string = values[0] if len(values) == 1 else \", \".join(values) + \",\"\n",
    "        return input_string\n",
    "\n",
    "    def insert_the_metadatas_values_to_form(metadatas):\n",
    "        for name, value in metadatas:\n",
    "            # insert_one_metadata_value_to_form(field_name, input_string)\n",
    "            match name:\n",
    "                case \"Title\":\n",
    "                    element = driver.find_element(By.XPATH,'//*[@id=\"id_resource-title\"]')\n",
    "                    element.clear()\n",
    "                    element.send_keys(value)\n",
    "                    \n",
    "                case \"Abstract\":\n",
    "                    iframe = element.find_element(By.XPATH, '//*[@id=\"id_resource-abstract_ifr\"]')\n",
    "                    driver.switch_to.frame(iframe)\n",
    "                    element = driver.find_element(By.ID,\"tinymce\")\n",
    "                    element.click()\n",
    "                    element.clear()\n",
    "                    element.send_keys(value)\n",
    "                    driver.switch_to.default_content()\n",
    "                    \n",
    "                case \"Type\":\n",
    "                    pass #TODO\n",
    "                \n",
    "                case \"Category\":\n",
    "                    element = driver.find_element(By.XPATH,'//*[@id=\"category_form\"]/div[5]/label')\n",
    "                    element.click()\n",
    "                    \n",
    "                case \"Organisation\":\n",
    "                    pass #TODO\n",
    "                \n",
    "                case \"Creator\":\n",
    "                    pass #TODO\n",
    "                \n",
    "                case \"Publisher\":\n",
    "                    pass #TODO\n",
    "                \n",
    "                case \"Contributor\":\n",
    "                    pass #TODO\n",
    "                \n",
    "                case \"Language\":\n",
    "                    element = Select(driver.find_element(By.ID,'id_resource-language'))\n",
    "                    element.select_by_value(value)\n",
    "                    \n",
    "                case \"License\":\n",
    "                    element =  Select(driver.find_element(By.ID,'id_resource-license'))\n",
    "                    #TODO the license is not in dropdown\n",
    "                    # element.select_by_value(value)\n",
    "                    \n",
    "                case \"Keyword\":\n",
    "                    element = driver.find_element(By.XPATH,'//*[@id=\"metadata_update\"]/div[2]/div[11]/div/span[2]/span[1]/span/ul/li/input')\n",
    "                    element.send_keys(value+\",\")\n",
    "\n",
    "    def finalize_by_clicking_on_update():\n",
    "        driver.find_element(By.ID,\"btn_upd_md_dwn\").click()\n",
    "    \n",
    "    navigate_to_the_new_dataset_layer()\n",
    "    click_on_edit_metadata()\n",
    "    click_on_advanced_metadata()\n",
    "    metadatas = load_metadatas_from_csv()\n",
    "    insert_the_metadatas_values_to_form(metadatas)\n",
    "    finalize_by_clicking_on_update()\n",
    "open_editor_edit_metadata_and_update()"
   ]
  },
  {
   "cell_type": "markdown",
   "metadata": {},
   "source": [
    "# Step 3"
   ]
  },
  {
   "cell_type": "code",
   "execution_count": 61,
   "metadata": {},
   "outputs": [],
   "source": [
    "def close_overlaying_UI():\n",
    "    TIMEOUT = 30\n",
    "    is_loaded = EC.presence_of_element_located((By.XPATH, '//a[@class=\"square-button btn btn-default\" and @role=\"button\"]'))\n",
    "    try:\n",
    "        WebDriverWait(driver, TIMEOUT).until(is_loaded)\n",
    "    except TimeoutException as e:\n",
    "        raise e(\"page didn't load in time.\")\n",
    "    driver.find_element(By.XPATH, '//a[@class=\"square-button btn btn-default\" and @role=\"button\"]').click()\n",
    "close_overlaying_UI()"
   ]
  },
  {
   "cell_type": "code",
   "execution_count": 65,
   "metadata": {},
   "outputs": [],
   "source": [
    "def download_the_metadata_via_the_UI_at_the_dataset_details_view():\n",
    "    driver.find_element(By.XPATH, \"//button[span/text()='Download']\").click()\n",
    "    driver.find_element(By.XPATH, '//ul/li/button[span/text()=\"ISO Metadata\"]').click()\n",
    "download_the_metadata_via_the_UI_at_the_dataset_details_view()"
   ]
  },
  {
   "cell_type": "code",
   "execution_count": null,
   "metadata": {},
   "outputs": [],
   "source": []
  }
 ],
 "metadata": {
  "kernelspec": {
   "display_name": "Python ('gn')",
   "language": "python",
   "name": "python3"
  },
  "language_info": {
   "codemirror_mode": {
    "name": "ipython",
    "version": 3
   },
   "file_extension": ".py",
   "mimetype": "text/x-python",
   "name": "python",
   "nbconvert_exporter": "python",
   "pygments_lexer": "ipython3",
   "version": "3.10.7"
  },
  "orig_nbformat": 4,
  "vscode": {
   "interpreter": {
    "hash": "25a19fbe0a9132dfb9279d48d161753c6352f8f9478c2e74383d340069b907c3"
   }
  }
 },
 "nbformat": 4,
 "nbformat_minor": 2
}
