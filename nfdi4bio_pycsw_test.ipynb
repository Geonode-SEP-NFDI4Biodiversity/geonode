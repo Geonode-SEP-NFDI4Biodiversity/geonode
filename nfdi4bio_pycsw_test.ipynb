{
 "cells": [
  {
   "cell_type": "markdown",
   "metadata": {},
   "source": [
    "# Setup"
   ]
  },
  {
   "cell_type": "code",
   "execution_count": 1,
   "metadata": {},
   "outputs": [],
   "source": [
    "# !pip install webdriver-manager\n"
   ]
  },
  {
   "cell_type": "code",
   "execution_count": 32,
   "metadata": {},
   "outputs": [],
   "source": [
    "import csv\n",
    "import os\n",
    "import pathlib\n",
    "import re\n",
    "import time\n",
    "import urllib.request\n",
    "from urllib.parse import urlparse\n",
    "from selenium import webdriver\n",
    "from selenium.webdriver.chrome.options import Options\n",
    "from selenium.webdriver.common.by import By\n",
    "from selenium.common.exceptions import TimeoutException\n",
    "from selenium.webdriver.support.ui import WebDriverWait, Select\n",
    "from selenium.webdriver.support import expected_conditions as EC\n",
    "from selenium.webdriver.common import keys\n",
    "from selenium.webdriver.chrome.service import Service as BraveService\n",
    "from webdriver_manager.chrome import ChromeDriverManager\n",
    "from webdriver_manager.core.utils import ChromeType\n",
    "import selenium"
   ]
  },
  {
   "cell_type": "code",
   "execution_count": 33,
   "metadata": {},
   "outputs": [],
   "source": [
    "class Paths:\n",
    "    WORK_DIR = pathlib.Path().absolute()\n",
    "    TEST_DATA_DIR = WORK_DIR.parent / \"nfdi4bio\"\n",
    "    TEST_DATASET = TEST_DATA_DIR / \"wuchsbezirke_2011.zip\"\n",
    "    TEST_METADATA_CSV = TEST_DATA_DIR / \"wuchsbezirka_metadata.csv\"\n",
    "    OUR_DOWNLOADED_METADATA = WORK_DIR / \"Wuchsbezirke 2011_ISO_Metadata\"\n",
    "    OUR_DOWNLOADED_METADATA_THROUGH_API = WORK_DIR / \"Wuchsbezirke 2011_ISO_Metadata_with_api\"\n",
    "    ORIGINAL_DOWNLOADED_METADATA = WORK_DIR / \"original_metadata\"\n",
    "    \n",
    "ROOT_URL = \"http://localhost/\"\n",
    "    \n",
    "class Login:\n",
    "    NAME = \"admin\"\n",
    "    PASSWORD = \"admin\""
   ]
  },
  {
   "cell_type": "code",
   "execution_count": 23,
   "metadata": {},
   "outputs": [],
   "source": [
    "chrome_options = Options()\n",
    "chrome_options.add_argument('--no-sandbox')\n",
    "# chrome_options.add_argument('--headless')\n",
    "chrome_options.add_argument('--disable-gpu')\n",
    "chrome_options.add_argument('--disable-dev-shm-usage')\n",
    "chrome_options.add_argument('--profile-directory=Default')\n",
    "chrome_options.add_argument('--user-data-dir=~/.config/google-chrome')\n",
    "chrome_options.add_argument('start-maximized')\n",
    "prefs = {\"download.default_directory\" : Paths.WORK_DIR.as_posix()}\n",
    "chrome_options.add_experimental_option(\"prefs\",prefs)"
   ]
  },
  {
   "cell_type": "code",
   "execution_count": 24,
   "metadata": {},
   "outputs": [
    {
     "name": "stderr",
     "output_type": "stream",
     "text": [
      "/tmp/ipykernel_8397/1788188964.py:1: DeprecationWarning: use options instead of chrome_options\n",
      "  driver = webdriver.Chrome(service=BraveService(ChromeDriverManager(chrome_type=ChromeType.BRAVE).install()),chrome_options=chrome_options)\n"
     ]
    }
   ],
   "source": [
    "driver = webdriver.Chrome(service=BraveService(ChromeDriverManager(chrome_type=ChromeType.BRAVE).install()),chrome_options=chrome_options)"
   ]
  },
  {
   "cell_type": "code",
   "execution_count": 25,
   "metadata": {},
   "outputs": [],
   "source": [
    "def hide_footer(func):\n",
    "    def wrap(*args, **kwargs):\n",
    "        out = func(*args, **kwargs)\n",
    "        footer = driver.find_element(By.XPATH,\"//footer\")\n",
    "        driver.execute_script(\"arguments[0].style.visibility='hidden'\",footer)\n",
    "        return out\n",
    "    return wrap"
   ]
  },
  {
   "cell_type": "markdown",
   "metadata": {},
   "source": [
    "## Set Page To English"
   ]
  },
  {
   "cell_type": "code",
   "execution_count": 26,
   "metadata": {},
   "outputs": [],
   "source": [
    "def set_page_to_english():\n",
    "    def already_english():\n",
    "        return driver.find_element(By.ID, \"gn-language-selector\").text == \"English\"\n",
    "\n",
    "    def open_dropdown_with_languages():\n",
    "        driver.find_element(By.ID, \"gn-language-selector\").click()\n",
    "\n",
    "    def click_english_language_element():\n",
    "        driver.find_element(By.XPATH, '//*[@id=\"gn-language-selector-dropdown\"]/ul/li/a[text()=\"English\"]').click()\n",
    "\n",
    "    driver.get(ROOT_URL)\n",
    "    if already_english():\n",
    "        return\n",
    "    open_dropdown_with_languages()\n",
    "    click_english_language_element()\n",
    "\n",
    "set_page_to_english()"
   ]
  },
  {
   "cell_type": "markdown",
   "metadata": {},
   "source": [
    "## Login"
   ]
  },
  {
   "cell_type": "code",
   "execution_count": 27,
   "metadata": {},
   "outputs": [],
   "source": [
    "def login():\n",
    "    LOGIN_URL = ROOT_URL + \"account/login/\"\n",
    "    @hide_footer\n",
    "    def load_login_page():\n",
    "        TIMEOUT = 10\n",
    "        driver.get(LOGIN_URL)\n",
    "        form_has_loaded = EC.presence_of_element_located((By.CSS_SELECTOR, \"form\"))\n",
    "        try:\n",
    "            WebDriverWait(driver, TIMEOUT).until(form_has_loaded)\n",
    "        except TimeoutException as e:\n",
    "            raise e(\"login form didn't load in time.\")\n",
    "\n",
    "    def input_name():\n",
    "        input = driver.find_element(By.CSS_SELECTOR, \"#id_login\")\n",
    "        input.send_keys(Login.NAME)\n",
    "\n",
    "    def input_password():\n",
    "        input = driver.find_element(By.CSS_SELECTOR, \"#id_password\")\n",
    "        input.send_keys(Login.PASSWORD)\n",
    "\n",
    "    def click_login():\n",
    "        driver.find_element(By.XPATH, '//form/button[text()=\"Sign In\"]').click()\n",
    "\n",
    "    load_login_page()\n",
    "    input_name()\n",
    "    input_password()\n",
    "    click_login()\n",
    "    \n",
    "login()"
   ]
  },
  {
   "cell_type": "markdown",
   "metadata": {},
   "source": [
    "# Step 1"
   ]
  },
  {
   "cell_type": "code",
   "execution_count": 9,
   "metadata": {},
   "outputs": [],
   "source": [
    "def upload_dataset_and_get_its_link():\n",
    "    UPLOAD_DATASET_URL = ROOT_URL + \"catalogue/#/upload/dataset\"\n",
    "    @hide_footer\n",
    "    def navigate_to_the_dataset_upload_UI():\n",
    "        TIMEOUT = 10\n",
    "        driver.get(UPLOAD_DATASET_URL)\n",
    "        UI_has_loaded = EC.presence_of_element_located((By.ID, \"ms-app\"))\n",
    "        try:\n",
    "            WebDriverWait(driver, TIMEOUT).until(UI_has_loaded)\n",
    "        except TimeoutException as e:\n",
    "            raise e(\"upload app didn't load in time.\")\n",
    "\n",
    "    def select_the_dataset_to_be_uploaded():\n",
    "        input = driver.find_element(By.XPATH, '//*[@id=\"ms-app\"]/div/div/div[1]/div[1]/div/div[1]/input')\n",
    "        input.send_keys(Paths.TEST_DATASET.as_posix())\n",
    "\n",
    "    def click_on_upload():\n",
    "        button = driver.find_element(By.XPATH, '//*[@id=\"ms-app\"]/div/div/div[1]/div[1]/div/div[2]/button')\n",
    "        button.click()\n",
    "\n",
    "    def wait_until_the_upload_process_is_finalized():\n",
    "        TIMEOUT = 240\n",
    "        try:\n",
    "            show_button_is_present = EC.presence_of_element_located((By.XPATH, \"//a[span/text()='View']\"))\n",
    "            WebDriverWait(driver, TIMEOUT).until(show_button_is_present)\n",
    "        except TimeoutException as e:\n",
    "            raise e(\"Upload of dataset didn't succeed in time.\")\n",
    "\n",
    "    def get_link_to_uploaded_dataset():\n",
    "        return driver.find_element(By.XPATH, \"//a[span/text()='View']\").get_attribute(\"href\")\n",
    "\n",
    "    navigate_to_the_dataset_upload_UI()\n",
    "    select_the_dataset_to_be_uploaded()\n",
    "    click_on_upload()\n",
    "    wait_until_the_upload_process_is_finalized()\n",
    "    return get_link_to_uploaded_dataset()\n",
    "\n",
    "dataset_layer_url = upload_dataset_and_get_its_link()\n"
   ]
  },
  {
   "cell_type": "markdown",
   "metadata": {},
   "source": [
    "# Step 2A"
   ]
  },
  {
   "cell_type": "code",
   "execution_count": 18,
   "metadata": {},
   "outputs": [],
   "source": [
    "# link needs to be normalized for remote debugging:\n",
    "# dataset_layer_url= urlparse(dataset_layer_url)._replace(netloc=urlparse(ROOT_URL).netloc).geturl()  \n",
    "# dataset_layer_url=\"http://localhost/catalogue/#/dataset/8\""
   ]
  },
  {
   "cell_type": "code",
   "execution_count": 16,
   "metadata": {},
   "outputs": [],
   "source": [
    "def open_editor_edit_metadata_and_update():\n",
    "    @hide_footer\n",
    "    def navigate_to_the_new_dataset_layer():\n",
    "        driver.get(dataset_layer_url)\n",
    "\n",
    "    def click_on_edit_metadata():\n",
    "        def close_overlaying_UI():\n",
    "            TIMEOUT = 30\n",
    "            is_loaded = EC.presence_of_element_located((By.XPATH, '//a[@class=\"square-button btn btn-default\" and @role=\"button\"]'))\n",
    "            try:\n",
    "                WebDriverWait(driver, TIMEOUT).until(is_loaded)\n",
    "            except TimeoutException as e:\n",
    "                raise e(\"page didn't load in time.\")\n",
    "            driver.find_element(By.XPATH, '//a[@class=\"square-button btn btn-default\" and @role=\"button\"]').click()\n",
    "\n",
    "        close_overlaying_UI()\n",
    "        driver.find_element(By.XPATH, \"//button[span/text()='Edit']\").click()\n",
    "        driver.find_element(By.XPATH, '//ul/li/a[span/text()=\"Edit Metadata\"]').click()\n",
    "\n",
    "    @hide_footer\n",
    "    def click_on_advanced_metadata():\n",
    "        driver.find_element(By.XPATH, '//a[text()=\"Advanced Metadata\"]').click()\n",
    "\n",
    "    def load_metadatas_from_csv():\n",
    "        with open(Paths.TEST_METADATA_CSV, mode=\"r\", encoding=\"utf8\") as csvfile:\n",
    "            reader = csv.reader(csvfile, delimiter=\";\")\n",
    "            metadatas = [(name, value.strip()) for name, value in reader][1:] # [1:] excludes header\n",
    "        return metadatas\n",
    "\n",
    "    def make_input_string(values):\n",
    "        input_string = values[0] if len(values) == 1 else \", \".join(values) + \",\"\n",
    "        return input_string\n",
    "\n",
    "    def insert_the_metadatas_values_to_form(metadatas):\n",
    "        for name, value in metadatas:\n",
    "            # insert_one_metadata_value_to_form(field_name, input_string)\n",
    "            match name:\n",
    "                case \"Title\":\n",
    "                    element = driver.find_element(By.XPATH,'//*[@id=\"id_resource-title\"]')\n",
    "                    element.clear()\n",
    "                    element.send_keys(value)\n",
    "                    \n",
    "                case \"Abstract\":\n",
    "                    iframe = element.find_element(By.XPATH, '//*[@id=\"id_resource-abstract_ifr\"]')\n",
    "                    driver.switch_to.frame(iframe)\n",
    "                    element = driver.find_element(By.ID,\"tinymce\")\n",
    "                    element.click()\n",
    "                    element.clear()\n",
    "                    element.send_keys(value)\n",
    "                    driver.switch_to.default_content()\n",
    "                    \n",
    "                case \"Type\":\n",
    "                    pass #TODO\n",
    "                \n",
    "                case \"Category\":\n",
    "                    element = driver.find_element(By.XPATH,'//*[@id=\"category_form\"]/div[5]/label')\n",
    "                    element.click()\n",
    "                    \n",
    "                case \"Organisation\":\n",
    "                    pass #TODO\n",
    "                \n",
    "                case \"Creator\":\n",
    "                    pass #TODO\n",
    "                \n",
    "                case \"Publisher\":\n",
    "                    pass #TODO\n",
    "                \n",
    "                case \"Contributor\":\n",
    "                    pass #TODO\n",
    "                \n",
    "                case \"Language\":\n",
    "                    element = Select(driver.find_element(By.ID,'id_resource-language'))\n",
    "                    element.select_by_value(value)\n",
    "                    \n",
    "                case \"License\":\n",
    "                    element =  Select(driver.find_element(By.ID,'id_resource-license'))\n",
    "                    #TODO the license is not in dropdown\n",
    "                    # element.select_by_value(value)\n",
    "                    \n",
    "                case \"Keyword\":\n",
    "                    element = driver.find_element(By.XPATH,'//*[@id=\"metadata_update\"]/div[2]/div[11]/div/span[2]/span[1]/span/ul/li/input')\n",
    "                    element.send_keys(value+\",\")\n",
    "                    \n",
    "    def get_title(metadatas):\n",
    "        return [t[1] for t in metadatas if t[0]==\"Title\"][0]\n",
    "    \n",
    "    def finalize_by_clicking_on_update(title):\n",
    "        driver.find_element(By.ID,\"btn_upd_md_dwn\").click()\n",
    "        try:\n",
    "            WebDriverWait(driver, 120).until(EC.title_contains(title))\n",
    "        except TimeoutException as e:\n",
    "            e(\"updating didnt finish in time\")\n",
    "    \n",
    "    navigate_to_the_new_dataset_layer()\n",
    "    click_on_edit_metadata()\n",
    "    click_on_advanced_metadata()\n",
    "    metadatas = load_metadatas_from_csv()\n",
    "    insert_the_metadatas_values_to_form(metadatas)\n",
    "    finalize_by_clicking_on_update(get_title(metadatas))\n",
    "open_editor_edit_metadata_and_update()"
   ]
  },
  {
   "cell_type": "markdown",
   "metadata": {},
   "source": [
    "# Step 3"
   ]
  },
  {
   "cell_type": "code",
   "execution_count": 28,
   "metadata": {},
   "outputs": [],
   "source": [
    "# driver.get(dataset_layer_url)"
   ]
  },
  {
   "cell_type": "code",
   "execution_count": 29,
   "metadata": {},
   "outputs": [],
   "source": [
    "def close_overlaying_UI():\n",
    "    TIMEOUT = 30\n",
    "    is_loaded = EC.presence_of_element_located((By.XPATH, '//a[@class=\"square-button btn btn-default\" and @role=\"button\"]'))\n",
    "    try:\n",
    "        WebDriverWait(driver, TIMEOUT).until(is_loaded)\n",
    "    except TimeoutException as e:\n",
    "        raise e(\"page didn't load in time.\")\n",
    "    driver.find_element(By.XPATH, '//a[@class=\"square-button btn btn-default\" and @role=\"button\"]').click()\n",
    "close_overlaying_UI()"
   ]
  },
  {
   "cell_type": "code",
   "execution_count": 30,
   "metadata": {},
   "outputs": [],
   "source": [
    "def download_the_metadata_via_the_UI_at_the_dataset_details_view():\n",
    "    driver.find_element(By.XPATH, \"//button[span/text()='Download']\").click()\n",
    "    driver.find_element(By.XPATH, '//ul/li/button[span/text()=\"ISO Metadata\"]').click()\n",
    "download_the_metadata_via_the_UI_at_the_dataset_details_view()"
   ]
  },
  {
   "cell_type": "code",
   "execution_count": null,
   "metadata": {},
   "outputs": [],
   "source": [
    "driver.quit()"
   ]
  },
  {
   "cell_type": "code",
   "execution_count": 34,
   "metadata": {},
   "outputs": [
    {
     "data": {
      "text/plain": [
       "'9d3da60b-5367-4c0a-831f-0d13c02f891c'"
      ]
     },
     "execution_count": 34,
     "metadata": {},
     "output_type": "execute_result"
    }
   ],
   "source": [
    "def open_the_file_and_extract_the_ID():\n",
    "    with open(Paths.OUR_DOWNLOADED_METADATA) as f:\n",
    "        text = f.read()\n",
    "    match = re.search(\"<gmd:fileIdentifier>[^>]*>(?P<ID>[^<]*)\",text)\n",
    "    return match.group(\"ID\")\n",
    "id = open_the_file_and_extract_the_ID()\n",
    "id"
   ]
  },
  {
   "cell_type": "code",
   "execution_count": 37,
   "metadata": {},
   "outputs": [],
   "source": [
    "def download_the_metadata_from_the_pycsw_interface(id):\n",
    "    url = f\"http://localhost/catalogue/csw?request=GetRecordById&service=CSW&version=2.0.2&outputschema=http%3A%2F%2Fwww.isotc211.org%2F2005%2Fgmd&elementsetname=full&id={id}\"\n",
    "    urllib.request.urlretrieve(url, Paths.OUR_DOWNLOADED_METADATA_THROUGH_API)\n",
    "download_the_metadata_from_the_pycsw_interface(id)"
   ]
  },
  {
   "cell_type": "code",
   "execution_count": 38,
   "metadata": {},
   "outputs": [],
   "source": [
    "def download_the_original_thuenen_metadata_from_the_pycsw_interface():\n",
    "    url = \"https://atlas.thuenen.de/catalogue/csw?request=GetRecordById&service=CSW&version=2.0.2&id=7cbc8af9-792c-464c-b1a0-7155f1088d9b&outputschema=http%3A%2F%2Fwww.isotc211.org%2F2005%2Fgmd&elementsetname=full\"\n",
    "    urllib.request.urlretrieve(url, Paths.ORIGINAL_DOWNLOADED_METADATA)\n",
    "\n",
    "download_the_original_thuenen_metadata_from_the_pycsw_interface()"
   ]
  },
  {
   "cell_type": "code",
   "execution_count": null,
   "metadata": {},
   "outputs": [],
   "source": [
    "def verify_that_the_contents_are_the_same():\n",
    "    original = Paths.ORIGINAL_DOWNLOADED_METADATA\n",
    "    our = Paths.OUR_DOWNLOADED_METADATA_THROUGH_API\n",
    "    # TODO return True if contents are the same\n",
    "    return False"
   ]
  },
  {
   "cell_type": "code",
   "execution_count": 36,
   "metadata": {},
   "outputs": [],
   "source": [
    "def delete_downloaded_files():\n",
    "    files_to_delete = [Paths.OUR_DOWNLOADED_METADATA, Paths.OUR_DOWNLOADED_METADATA_THROUGH_API, Paths.ORIGINAL_DOWNLOADED_METADATA]\n",
    "    for file in files_to_delete:\n",
    "        os.remove(file)\n",
    "delete_downloaded_files()"
   ]
  }
 ],
 "metadata": {
  "kernelspec": {
   "display_name": "Python 3.10.6 ('nfdi4bio')",
   "language": "python",
   "name": "python3"
  },
  "language_info": {
   "codemirror_mode": {
    "name": "ipython",
    "version": 3
   },
   "file_extension": ".py",
   "mimetype": "text/x-python",
   "name": "python",
   "nbconvert_exporter": "python",
   "pygments_lexer": "ipython3",
   "version": "3.10.6"
  },
  "orig_nbformat": 4,
  "vscode": {
   "interpreter": {
    "hash": "563ceca9197793ae4640251c9eed5028049856d166ea49daca8cac56db45bd63"
   }
  }
 },
 "nbformat": 4,
 "nbformat_minor": 2
}
